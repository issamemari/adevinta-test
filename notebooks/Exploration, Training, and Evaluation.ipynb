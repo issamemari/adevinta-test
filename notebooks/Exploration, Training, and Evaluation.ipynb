{
 "cells": [
  {
   "cell_type": "code",
   "execution_count": 1,
   "id": "df312e8d",
   "metadata": {},
   "outputs": [],
   "source": [
    "import pandas as pd\n",
    "\n",
    "users = pd.read_csv(\"../data/fake_users (2).csv\", index_col=0)"
   ]
  },
  {
   "cell_type": "code",
   "execution_count": 2,
   "id": "5332c64a",
   "metadata": {},
   "outputs": [
    {
     "data": {
      "text/html": [
       "<div>\n",
       "<style scoped>\n",
       "    .dataframe tbody tr th:only-of-type {\n",
       "        vertical-align: middle;\n",
       "    }\n",
       "\n",
       "    .dataframe tbody tr th {\n",
       "        vertical-align: top;\n",
       "    }\n",
       "\n",
       "    .dataframe thead th {\n",
       "        text-align: right;\n",
       "    }\n",
       "</style>\n",
       "<table border=\"1\" class=\"dataframe\">\n",
       "  <thead>\n",
       "    <tr style=\"text-align: right;\">\n",
       "      <th></th>\n",
       "      <th>UserId</th>\n",
       "      <th>Event</th>\n",
       "      <th>Category</th>\n",
       "      <th>Fake</th>\n",
       "    </tr>\n",
       "  </thead>\n",
       "  <tbody>\n",
       "    <tr>\n",
       "      <th>0</th>\n",
       "      <td>F7A7BF3761</td>\n",
       "      <td>click_carrousel</td>\n",
       "      <td>Phone</td>\n",
       "      <td>0</td>\n",
       "    </tr>\n",
       "    <tr>\n",
       "      <th>1</th>\n",
       "      <td>BA8F7A71E6</td>\n",
       "      <td>send_sms</td>\n",
       "      <td>Motor</td>\n",
       "      <td>0</td>\n",
       "    </tr>\n",
       "    <tr>\n",
       "      <th>2</th>\n",
       "      <td>21C64F22FC</td>\n",
       "      <td>send_email</td>\n",
       "      <td>Jobs</td>\n",
       "      <td>0</td>\n",
       "    </tr>\n",
       "    <tr>\n",
       "      <th>3</th>\n",
       "      <td>F9E0306603</td>\n",
       "      <td>send_sms</td>\n",
       "      <td>Jobs</td>\n",
       "      <td>0</td>\n",
       "    </tr>\n",
       "    <tr>\n",
       "      <th>4</th>\n",
       "      <td>1B2143BACC</td>\n",
       "      <td>click_ad</td>\n",
       "      <td>Phone</td>\n",
       "      <td>0</td>\n",
       "    </tr>\n",
       "    <tr>\n",
       "      <th>...</th>\n",
       "      <td>...</td>\n",
       "      <td>...</td>\n",
       "      <td>...</td>\n",
       "      <td>...</td>\n",
       "    </tr>\n",
       "    <tr>\n",
       "      <th>100468</th>\n",
       "      <td>6C3AC5DF4E</td>\n",
       "      <td>send_sms</td>\n",
       "      <td>Holidays</td>\n",
       "      <td>0</td>\n",
       "    </tr>\n",
       "    <tr>\n",
       "      <th>100469</th>\n",
       "      <td>22D57A742B</td>\n",
       "      <td>send_email</td>\n",
       "      <td>Leisure</td>\n",
       "      <td>0</td>\n",
       "    </tr>\n",
       "    <tr>\n",
       "      <th>100470</th>\n",
       "      <td>89AF1B90AD</td>\n",
       "      <td>phone_call</td>\n",
       "      <td>Real_State</td>\n",
       "      <td>0</td>\n",
       "    </tr>\n",
       "    <tr>\n",
       "      <th>100471</th>\n",
       "      <td>59115538F2</td>\n",
       "      <td>send_email</td>\n",
       "      <td>Jobs</td>\n",
       "      <td>0</td>\n",
       "    </tr>\n",
       "    <tr>\n",
       "      <th>100472</th>\n",
       "      <td>3A96C1B4ED</td>\n",
       "      <td>send_sms</td>\n",
       "      <td>Motor</td>\n",
       "      <td>0</td>\n",
       "    </tr>\n",
       "  </tbody>\n",
       "</table>\n",
       "<p>100473 rows × 4 columns</p>\n",
       "</div>"
      ],
      "text/plain": [
       "            UserId            Event    Category  Fake\n",
       "0       F7A7BF3761  click_carrousel       Phone     0\n",
       "1       BA8F7A71E6         send_sms       Motor     0\n",
       "2       21C64F22FC       send_email        Jobs     0\n",
       "3       F9E0306603         send_sms        Jobs     0\n",
       "4       1B2143BACC         click_ad       Phone     0\n",
       "...            ...              ...         ...   ...\n",
       "100468  6C3AC5DF4E         send_sms    Holidays     0\n",
       "100469  22D57A742B       send_email     Leisure     0\n",
       "100470  89AF1B90AD       phone_call  Real_State     0\n",
       "100471  59115538F2       send_email        Jobs     0\n",
       "100472  3A96C1B4ED         send_sms       Motor     0\n",
       "\n",
       "[100473 rows x 4 columns]"
      ]
     },
     "execution_count": 2,
     "metadata": {},
     "output_type": "execute_result"
    }
   ],
   "source": [
    "users"
   ]
  },
  {
   "cell_type": "markdown",
   "id": "a9a37f6b",
   "metadata": {},
   "source": [
    "Let's check for imbalance. Drop duplicates on `UserId` to obtain unique users."
   ]
  },
  {
   "cell_type": "code",
   "execution_count": 3,
   "id": "1341d45a",
   "metadata": {},
   "outputs": [
    {
     "data": {
      "text/plain": [
       "<AxesSubplot:xlabel='Fake'>"
      ]
     },
     "execution_count": 3,
     "metadata": {},
     "output_type": "execute_result"
    },
    {
     "data": {
      "image/png": "[encoded data removed]",
      "text/plain": [
       "<Figure size 864x432 with 1 Axes>"
      ]
     },
     "metadata": {
      "needs_background": "light"
     },
     "output_type": "display_data"
    }
   ],
   "source": [
    "counts = users[[\"Fake\", \"UserId\"]].drop_duplicates(subset=[\"UserId\"]).groupby(\"Fake\").count()\n",
    "\n",
    "counts.plot(kind=\"bar\", figsize=(12, 6))"
   ]
  },
  {
   "cell_type": "code",
   "execution_count": 4,
   "id": "7278e41d",
   "metadata": {},
   "outputs": [
    {
     "data": {
      "text/html": [
       "<div>\n",
       "<style scoped>\n",
       "    .dataframe tbody tr th:only-of-type {\n",
       "        vertical-align: middle;\n",
       "    }\n",
       "\n",
       "    .dataframe tbody tr th {\n",
       "        vertical-align: top;\n",
       "    }\n",
       "\n",
       "    .dataframe thead th {\n",
       "        text-align: right;\n",
       "    }\n",
       "</style>\n",
       "<table border=\"1\" class=\"dataframe\">\n",
       "  <thead>\n",
       "    <tr style=\"text-align: right;\">\n",
       "      <th></th>\n",
       "      <th>UserId</th>\n",
       "    </tr>\n",
       "    <tr>\n",
       "      <th>Fake</th>\n",
       "      <th></th>\n",
       "    </tr>\n",
       "  </thead>\n",
       "  <tbody>\n",
       "    <tr>\n",
       "      <th>0</th>\n",
       "      <td>94.339623</td>\n",
       "    </tr>\n",
       "    <tr>\n",
       "      <th>1</th>\n",
       "      <td>5.660377</td>\n",
       "    </tr>\n",
       "  </tbody>\n",
       "</table>\n",
       "</div>"
      ],
      "text/plain": [
       "         UserId\n",
       "Fake           \n",
       "0     94.339623\n",
       "1      5.660377"
      ]
     },
     "execution_count": 4,
     "metadata": {},
     "output_type": "execute_result"
    }
   ],
   "source": [
    "(counts / len(users.drop_duplicates(subset=[\"UserId\"]))) * 100"
   ]
  },
  {
   "cell_type": "markdown",
   "id": "a983facc",
   "metadata": {},
   "source": [
    "The dataset is extremely unbalanced: only 5.66 percent of users are fake."
   ]
  },
  {
   "cell_type": "markdown",
   "id": "80381e8e",
   "metadata": {},
   "source": [
    "Let's look at the distributions of events and categories for fake vs real users"
   ]
  },
  {
   "cell_type": "code",
   "execution_count": 5,
   "id": "ab0250ba",
   "metadata": {},
   "outputs": [],
   "source": [
    "counts = users[[\"Fake\", \"Event\", \"UserId\"]].groupby([\"Fake\", \"Event\"]).count()\n",
    "percentages = counts / counts.groupby(level=0).sum()"
   ]
  },
  {
   "cell_type": "code",
   "execution_count": 6,
   "id": "e632c829",
   "metadata": {},
   "outputs": [
    {
     "data": {
      "text/plain": [
       "<AxesSubplot:xlabel='Fake'>"
      ]
     },
     "execution_count": 6,
     "metadata": {},
     "output_type": "execute_result"
    },
    {
     "data": {
      "image/png": "[encoded data removed]",
      "text/plain": [
       "<Figure size 864x576 with 1 Axes>"
      ]
     },
     "metadata": {
      "needs_background": "light"
     },
     "output_type": "display_data"
    }
   ],
   "source": [
    "percentages.unstack().plot.bar(figsize=(12, 8))"
   ]
  },
  {
   "cell_type": "markdown",
   "id": "9e15d026",
   "metadata": {},
   "source": [
    "It's clear that the distribution of events is very different for fake users compared to regular users. Fake users are much more likely to `click_ad` and `send_email`"
   ]
  },
  {
   "cell_type": "markdown",
   "id": "9e407af3",
   "metadata": {},
   "source": [
    "Let's check whether there's a pattern in the distributions of categories"
   ]
  },
  {
   "cell_type": "code",
   "execution_count": 7,
   "id": "ad1bfd1c",
   "metadata": {},
   "outputs": [],
   "source": [
    "counts = users[[\"Fake\", \"Category\", \"UserId\"]].groupby([\"Fake\", \"Category\"]).count()\n",
    "percentages = counts / counts.groupby(level=0).sum()"
   ]
  },
  {
   "cell_type": "code",
   "execution_count": 8,
   "id": "12324a45",
   "metadata": {},
   "outputs": [
    {
     "data": {
      "text/plain": [
       "<AxesSubplot:xlabel='Fake'>"
      ]
     },
     "execution_count": 8,
     "metadata": {},
     "output_type": "execute_result"
    },
    {
     "data": {
      "image/png": "[encoded data removed]",
      "text/plain": [
       "<Figure size 864x576 with 1 Axes>"
      ]
     },
     "metadata": {
      "needs_background": "light"
     },
     "output_type": "display_data"
    }
   ],
   "source": [
    "percentages.unstack().plot.bar(figsize=(12, 8))"
   ]
  },
  {
   "cell_type": "markdown",
   "id": "35a83351",
   "metadata": {},
   "source": [
    "There doesn't seem to be a significant difference here. Fake users seem to look at the same categories as regular users: all categories with roughly equal probability."
   ]
  },
  {
   "cell_type": "markdown",
   "id": "a9cbb509",
   "metadata": {},
   "source": [
    "Next, let's see if we can find a way to classify users based on their behaviour. The purpose is to classify users as opposed to classifying events, so we'll need to transform the dataset a little bit. But first, let's check that indeed every user always has the same value for the `Fake` column"
   ]
  },
  {
   "cell_type": "code",
   "execution_count": 9,
   "id": "2358c04d",
   "metadata": {},
   "outputs": [
    {
     "data": {
      "text/plain": [
       "False"
      ]
     },
     "execution_count": 9,
     "metadata": {},
     "output_type": "execute_result"
    }
   ],
   "source": [
    "any(users.groupby(\"UserId\").Fake.nunique() > 1)"
   ]
  },
  {
   "cell_type": "markdown",
   "id": "e5568cec",
   "metadata": {},
   "source": [
    "Let's split the dataset into training, testing, and validation datasets. We'll make the split stratified to ensure that we have a similar distribution of fake and real users in different splits."
   ]
  },
  {
   "cell_type": "markdown",
   "id": "b2c28214",
   "metadata": {},
   "source": [
    "Create a ground truth table with only `UserId` and `Fake`"
   ]
  },
  {
   "cell_type": "code",
   "execution_count": 10,
   "id": "f4ebea30",
   "metadata": {},
   "outputs": [
    {
     "data": {
      "text/html": [
       "<div>\n",
       "<style scoped>\n",
       "    .dataframe tbody tr th:only-of-type {\n",
       "        vertical-align: middle;\n",
       "    }\n",
       "\n",
       "    .dataframe tbody tr th {\n",
       "        vertical-align: top;\n",
       "    }\n",
       "\n",
       "    .dataframe thead th {\n",
       "        text-align: right;\n",
       "    }\n",
       "</style>\n",
       "<table border=\"1\" class=\"dataframe\">\n",
       "  <thead>\n",
       "    <tr style=\"text-align: right;\">\n",
       "      <th></th>\n",
       "      <th>Fake</th>\n",
       "    </tr>\n",
       "    <tr>\n",
       "      <th>UserId</th>\n",
       "      <th></th>\n",
       "    </tr>\n",
       "  </thead>\n",
       "  <tbody>\n",
       "    <tr>\n",
       "      <th>F7A7BF3761</th>\n",
       "      <td>0</td>\n",
       "    </tr>\n",
       "    <tr>\n",
       "      <th>BA8F7A71E6</th>\n",
       "      <td>0</td>\n",
       "    </tr>\n",
       "    <tr>\n",
       "      <th>21C64F22FC</th>\n",
       "      <td>0</td>\n",
       "    </tr>\n",
       "    <tr>\n",
       "      <th>F9E0306603</th>\n",
       "      <td>0</td>\n",
       "    </tr>\n",
       "    <tr>\n",
       "      <th>1B2143BACC</th>\n",
       "      <td>0</td>\n",
       "    </tr>\n",
       "    <tr>\n",
       "      <th>...</th>\n",
       "      <td>...</td>\n",
       "    </tr>\n",
       "    <tr>\n",
       "      <th>868D287036</th>\n",
       "      <td>0</td>\n",
       "    </tr>\n",
       "    <tr>\n",
       "      <th>A3A0EA61C2</th>\n",
       "      <td>0</td>\n",
       "    </tr>\n",
       "    <tr>\n",
       "      <th>4DF18F2FBD</th>\n",
       "      <td>0</td>\n",
       "    </tr>\n",
       "    <tr>\n",
       "      <th>193BB215D8</th>\n",
       "      <td>0</td>\n",
       "    </tr>\n",
       "    <tr>\n",
       "      <th>D683194D11</th>\n",
       "      <td>0</td>\n",
       "    </tr>\n",
       "  </tbody>\n",
       "</table>\n",
       "<p>5300 rows × 1 columns</p>\n",
       "</div>"
      ],
      "text/plain": [
       "            Fake\n",
       "UserId          \n",
       "F7A7BF3761     0\n",
       "BA8F7A71E6     0\n",
       "21C64F22FC     0\n",
       "F9E0306603     0\n",
       "1B2143BACC     0\n",
       "...          ...\n",
       "868D287036     0\n",
       "A3A0EA61C2     0\n",
       "4DF18F2FBD     0\n",
       "193BB215D8     0\n",
       "D683194D11     0\n",
       "\n",
       "[5300 rows x 1 columns]"
      ]
     },
     "execution_count": 10,
     "metadata": {},
     "output_type": "execute_result"
    }
   ],
   "source": [
    "gt = users[[\"UserId\", \"Fake\"]].drop_duplicates()\n",
    "gt = gt.set_index(\"UserId\")\n",
    "gt"
   ]
  },
  {
   "cell_type": "code",
   "execution_count": 11,
   "id": "1362873b",
   "metadata": {},
   "outputs": [],
   "source": [
    "import numpy as np\n",
    "from sklearn.model_selection import train_test_split\n",
    "\n",
    "# set random seed to make the experiments reproducible\n",
    "np.random.seed(112)\n",
    "\n",
    "# 80% training, 10% validation, and 10% testing\n",
    "train, rest = train_test_split(gt, test_size=0.2, stratify=gt[\"Fake\"])\n",
    "valid, test = train_test_split(rest, test_size=0.5, stratify=rest[\"Fake\"])"
   ]
  },
  {
   "cell_type": "code",
   "execution_count": 12,
   "id": "da85ea23",
   "metadata": {},
   "outputs": [
    {
     "data": {
      "text/html": [
       "<div>\n",
       "<style scoped>\n",
       "    .dataframe tbody tr th:only-of-type {\n",
       "        vertical-align: middle;\n",
       "    }\n",
       "\n",
       "    .dataframe tbody tr th {\n",
       "        vertical-align: top;\n",
       "    }\n",
       "\n",
       "    .dataframe thead th {\n",
       "        text-align: right;\n",
       "    }\n",
       "</style>\n",
       "<table border=\"1\" class=\"dataframe\">\n",
       "  <thead>\n",
       "    <tr style=\"text-align: right;\">\n",
       "      <th></th>\n",
       "      <th>UserId</th>\n",
       "    </tr>\n",
       "    <tr>\n",
       "      <th>Fake</th>\n",
       "      <th></th>\n",
       "    </tr>\n",
       "  </thead>\n",
       "  <tbody>\n",
       "    <tr>\n",
       "      <th>0</th>\n",
       "      <td>4000</td>\n",
       "    </tr>\n",
       "    <tr>\n",
       "      <th>1</th>\n",
       "      <td>240</td>\n",
       "    </tr>\n",
       "  </tbody>\n",
       "</table>\n",
       "</div>"
      ],
      "text/plain": [
       "      UserId\n",
       "Fake        \n",
       "0       4000\n",
       "1        240"
      ]
     },
     "execution_count": 12,
     "metadata": {},
     "output_type": "execute_result"
    }
   ],
   "source": [
    "train.reset_index().groupby(\"Fake\").count()"
   ]
  },
  {
   "cell_type": "code",
   "execution_count": 13,
   "id": "f98cb2b4",
   "metadata": {},
   "outputs": [
    {
     "data": {
      "text/html": [
       "<div>\n",
       "<style scoped>\n",
       "    .dataframe tbody tr th:only-of-type {\n",
       "        vertical-align: middle;\n",
       "    }\n",
       "\n",
       "    .dataframe tbody tr th {\n",
       "        vertical-align: top;\n",
       "    }\n",
       "\n",
       "    .dataframe thead th {\n",
       "        text-align: right;\n",
       "    }\n",
       "</style>\n",
       "<table border=\"1\" class=\"dataframe\">\n",
       "  <thead>\n",
       "    <tr style=\"text-align: right;\">\n",
       "      <th></th>\n",
       "      <th>UserId</th>\n",
       "    </tr>\n",
       "    <tr>\n",
       "      <th>Fake</th>\n",
       "      <th></th>\n",
       "    </tr>\n",
       "  </thead>\n",
       "  <tbody>\n",
       "    <tr>\n",
       "      <th>0</th>\n",
       "      <td>500</td>\n",
       "    </tr>\n",
       "    <tr>\n",
       "      <th>1</th>\n",
       "      <td>30</td>\n",
       "    </tr>\n",
       "  </tbody>\n",
       "</table>\n",
       "</div>"
      ],
      "text/plain": [
       "      UserId\n",
       "Fake        \n",
       "0        500\n",
       "1         30"
      ]
     },
     "execution_count": 13,
     "metadata": {},
     "output_type": "execute_result"
    }
   ],
   "source": [
    "valid.reset_index().groupby(\"Fake\").count()"
   ]
  },
  {
   "cell_type": "code",
   "execution_count": 14,
   "id": "2e21d5b9",
   "metadata": {},
   "outputs": [
    {
     "data": {
      "text/html": [
       "<div>\n",
       "<style scoped>\n",
       "    .dataframe tbody tr th:only-of-type {\n",
       "        vertical-align: middle;\n",
       "    }\n",
       "\n",
       "    .dataframe tbody tr th {\n",
       "        vertical-align: top;\n",
       "    }\n",
       "\n",
       "    .dataframe thead th {\n",
       "        text-align: right;\n",
       "    }\n",
       "</style>\n",
       "<table border=\"1\" class=\"dataframe\">\n",
       "  <thead>\n",
       "    <tr style=\"text-align: right;\">\n",
       "      <th></th>\n",
       "      <th>UserId</th>\n",
       "    </tr>\n",
       "    <tr>\n",
       "      <th>Fake</th>\n",
       "      <th></th>\n",
       "    </tr>\n",
       "  </thead>\n",
       "  <tbody>\n",
       "    <tr>\n",
       "      <th>0</th>\n",
       "      <td>500</td>\n",
       "    </tr>\n",
       "    <tr>\n",
       "      <th>1</th>\n",
       "      <td>30</td>\n",
       "    </tr>\n",
       "  </tbody>\n",
       "</table>\n",
       "</div>"
      ],
      "text/plain": [
       "      UserId\n",
       "Fake        \n",
       "0        500\n",
       "1         30"
      ]
     },
     "execution_count": 14,
     "metadata": {},
     "output_type": "execute_result"
    }
   ],
   "source": [
    "test.reset_index().groupby(\"Fake\").count()"
   ]
  },
  {
   "cell_type": "markdown",
   "id": "c90f5156",
   "metadata": {},
   "source": [
    "Simple input features: the distribution of events a user generates"
   ]
  },
  {
   "cell_type": "code",
   "execution_count": 15,
   "id": "f3cb9f6d",
   "metadata": {},
   "outputs": [],
   "source": [
    "counts = users[[\"UserId\", \"Event\", \"Fake\"]].groupby([\"UserId\", \"Event\"]).count()\n",
    "percentages = counts / counts.groupby(level=0).sum()"
   ]
  },
  {
   "cell_type": "code",
   "execution_count": 16,
   "id": "8e969dc3",
   "metadata": {},
   "outputs": [
    {
     "data": {
      "text/html": [
       "<div>\n",
       "<style scoped>\n",
       "    .dataframe tbody tr th:only-of-type {\n",
       "        vertical-align: middle;\n",
       "    }\n",
       "\n",
       "    .dataframe tbody tr th {\n",
       "        vertical-align: top;\n",
       "    }\n",
       "\n",
       "    .dataframe thead th {\n",
       "        text-align: right;\n",
       "    }\n",
       "</style>\n",
       "<table border=\"1\" class=\"dataframe\">\n",
       "  <thead>\n",
       "    <tr style=\"text-align: right;\">\n",
       "      <th></th>\n",
       "      <th>click_ad</th>\n",
       "      <th>click_carrousel</th>\n",
       "      <th>phone_call</th>\n",
       "      <th>send_email</th>\n",
       "      <th>send_sms</th>\n",
       "    </tr>\n",
       "    <tr>\n",
       "      <th>UserId</th>\n",
       "      <th></th>\n",
       "      <th></th>\n",
       "      <th></th>\n",
       "      <th></th>\n",
       "      <th></th>\n",
       "    </tr>\n",
       "  </thead>\n",
       "  <tbody>\n",
       "    <tr>\n",
       "      <th>00079D439D</th>\n",
       "      <td>0.263158</td>\n",
       "      <td>0.157895</td>\n",
       "      <td>0.210526</td>\n",
       "      <td>0.210526</td>\n",
       "      <td>0.157895</td>\n",
       "    </tr>\n",
       "    <tr>\n",
       "      <th>0007A4D4AE</th>\n",
       "      <td>0.250000</td>\n",
       "      <td>0.350000</td>\n",
       "      <td>0.200000</td>\n",
       "      <td>0.150000</td>\n",
       "      <td>0.050000</td>\n",
       "    </tr>\n",
       "    <tr>\n",
       "      <th>000AFE2623</th>\n",
       "      <td>0.142857</td>\n",
       "      <td>0.190476</td>\n",
       "      <td>0.142857</td>\n",
       "      <td>0.190476</td>\n",
       "      <td>0.333333</td>\n",
       "    </tr>\n",
       "    <tr>\n",
       "      <th>001A5362BC</th>\n",
       "      <td>0.187500</td>\n",
       "      <td>0.187500</td>\n",
       "      <td>0.187500</td>\n",
       "      <td>0.312500</td>\n",
       "      <td>0.125000</td>\n",
       "    </tr>\n",
       "    <tr>\n",
       "      <th>0025995AF5</th>\n",
       "      <td>0.190476</td>\n",
       "      <td>0.333333</td>\n",
       "      <td>0.142857</td>\n",
       "      <td>0.142857</td>\n",
       "      <td>0.190476</td>\n",
       "    </tr>\n",
       "    <tr>\n",
       "      <th>...</th>\n",
       "      <td>...</td>\n",
       "      <td>...</td>\n",
       "      <td>...</td>\n",
       "      <td>...</td>\n",
       "      <td>...</td>\n",
       "    </tr>\n",
       "    <tr>\n",
       "      <th>FFB0AC6E49</th>\n",
       "      <td>0.277778</td>\n",
       "      <td>0.055556</td>\n",
       "      <td>0.166667</td>\n",
       "      <td>0.222222</td>\n",
       "      <td>0.277778</td>\n",
       "    </tr>\n",
       "    <tr>\n",
       "      <th>FFC56B0CDD</th>\n",
       "      <td>0.375000</td>\n",
       "      <td>0.041667</td>\n",
       "      <td>0.125000</td>\n",
       "      <td>0.416667</td>\n",
       "      <td>0.041667</td>\n",
       "    </tr>\n",
       "    <tr>\n",
       "      <th>FFD2B9DC06</th>\n",
       "      <td>0.150000</td>\n",
       "      <td>0.300000</td>\n",
       "      <td>0.250000</td>\n",
       "      <td>0.250000</td>\n",
       "      <td>0.050000</td>\n",
       "    </tr>\n",
       "    <tr>\n",
       "      <th>FFDF962B04</th>\n",
       "      <td>0.266667</td>\n",
       "      <td>0.066667</td>\n",
       "      <td>0.200000</td>\n",
       "      <td>0.066667</td>\n",
       "      <td>0.400000</td>\n",
       "    </tr>\n",
       "    <tr>\n",
       "      <th>FFFDC1CD0F</th>\n",
       "      <td>0.210526</td>\n",
       "      <td>0.315789</td>\n",
       "      <td>0.105263</td>\n",
       "      <td>0.105263</td>\n",
       "      <td>0.263158</td>\n",
       "    </tr>\n",
       "  </tbody>\n",
       "</table>\n",
       "<p>5300 rows × 5 columns</p>\n",
       "</div>"
      ],
      "text/plain": [
       "            click_ad  click_carrousel  phone_call  send_email  send_sms\n",
       "UserId                                                                 \n",
       "00079D439D  0.263158         0.157895    0.210526    0.210526  0.157895\n",
       "0007A4D4AE  0.250000         0.350000    0.200000    0.150000  0.050000\n",
       "000AFE2623  0.142857         0.190476    0.142857    0.190476  0.333333\n",
       "001A5362BC  0.187500         0.187500    0.187500    0.312500  0.125000\n",
       "0025995AF5  0.190476         0.333333    0.142857    0.142857  0.190476\n",
       "...              ...              ...         ...         ...       ...\n",
       "FFB0AC6E49  0.277778         0.055556    0.166667    0.222222  0.277778\n",
       "FFC56B0CDD  0.375000         0.041667    0.125000    0.416667  0.041667\n",
       "FFD2B9DC06  0.150000         0.300000    0.250000    0.250000  0.050000\n",
       "FFDF962B04  0.266667         0.066667    0.200000    0.066667  0.400000\n",
       "FFFDC1CD0F  0.210526         0.315789    0.105263    0.105263  0.263158\n",
       "\n",
       "[5300 rows x 5 columns]"
      ]
     },
     "execution_count": 16,
     "metadata": {},
     "output_type": "execute_result"
    }
   ],
   "source": [
    "percentages = percentages.unstack()\n",
    "percentages.columns = percentages.columns.droplevel()\n",
    "percentages.columns.name = \"\"\n",
    "percentages"
   ]
  },
  {
   "cell_type": "code",
   "execution_count": 17,
   "id": "03671e8d",
   "metadata": {},
   "outputs": [],
   "source": [
    "train_features = pd.merge(percentages, train, left_index=True, right_index=True, how=\"right\")\n",
    "valid_features = pd.merge(percentages, valid, left_index=True, right_index=True, how=\"right\")\n",
    "test_features = pd.merge(percentages, test, left_index=True, right_index=True, how=\"right\")"
   ]
  },
  {
   "cell_type": "code",
   "execution_count": 18,
   "id": "fa7682ff",
   "metadata": {},
   "outputs": [
    {
     "data": {
      "text/html": [
       "<div>\n",
       "<style scoped>\n",
       "    .dataframe tbody tr th:only-of-type {\n",
       "        vertical-align: middle;\n",
       "    }\n",
       "\n",
       "    .dataframe tbody tr th {\n",
       "        vertical-align: top;\n",
       "    }\n",
       "\n",
       "    .dataframe thead th {\n",
       "        text-align: right;\n",
       "    }\n",
       "</style>\n",
       "<table border=\"1\" class=\"dataframe\">\n",
       "  <thead>\n",
       "    <tr style=\"text-align: right;\">\n",
       "      <th></th>\n",
       "      <th>click_ad</th>\n",
       "      <th>click_carrousel</th>\n",
       "      <th>phone_call</th>\n",
       "      <th>send_email</th>\n",
       "      <th>send_sms</th>\n",
       "      <th>Fake</th>\n",
       "    </tr>\n",
       "    <tr>\n",
       "      <th>UserId</th>\n",
       "      <th></th>\n",
       "      <th></th>\n",
       "      <th></th>\n",
       "      <th></th>\n",
       "      <th></th>\n",
       "      <th></th>\n",
       "    </tr>\n",
       "  </thead>\n",
       "  <tbody>\n",
       "    <tr>\n",
       "      <th>1F7EF1F15B</th>\n",
       "      <td>0.300000</td>\n",
       "      <td>0.200000</td>\n",
       "      <td>0.150000</td>\n",
       "      <td>0.150000</td>\n",
       "      <td>0.200000</td>\n",
       "      <td>0</td>\n",
       "    </tr>\n",
       "    <tr>\n",
       "      <th>468636CEA7</th>\n",
       "      <td>0.157895</td>\n",
       "      <td>0.157895</td>\n",
       "      <td>0.210526</td>\n",
       "      <td>0.368421</td>\n",
       "      <td>0.105263</td>\n",
       "      <td>0</td>\n",
       "    </tr>\n",
       "    <tr>\n",
       "      <th>C39FD3268D</th>\n",
       "      <td>NaN</td>\n",
       "      <td>0.105263</td>\n",
       "      <td>0.210526</td>\n",
       "      <td>0.526316</td>\n",
       "      <td>0.157895</td>\n",
       "      <td>0</td>\n",
       "    </tr>\n",
       "    <tr>\n",
       "      <th>1E85C352A1</th>\n",
       "      <td>0.428571</td>\n",
       "      <td>0.020408</td>\n",
       "      <td>0.040816</td>\n",
       "      <td>0.448980</td>\n",
       "      <td>0.061224</td>\n",
       "      <td>1</td>\n",
       "    </tr>\n",
       "    <tr>\n",
       "      <th>8CC3FE415F</th>\n",
       "      <td>0.222222</td>\n",
       "      <td>0.166667</td>\n",
       "      <td>0.166667</td>\n",
       "      <td>0.333333</td>\n",
       "      <td>0.111111</td>\n",
       "      <td>0</td>\n",
       "    </tr>\n",
       "    <tr>\n",
       "      <th>...</th>\n",
       "      <td>...</td>\n",
       "      <td>...</td>\n",
       "      <td>...</td>\n",
       "      <td>...</td>\n",
       "      <td>...</td>\n",
       "      <td>...</td>\n",
       "    </tr>\n",
       "    <tr>\n",
       "      <th>31798C18F0</th>\n",
       "      <td>0.066667</td>\n",
       "      <td>0.266667</td>\n",
       "      <td>0.200000</td>\n",
       "      <td>0.333333</td>\n",
       "      <td>0.133333</td>\n",
       "      <td>0</td>\n",
       "    </tr>\n",
       "    <tr>\n",
       "      <th>1DBC37DBFA</th>\n",
       "      <td>0.190476</td>\n",
       "      <td>0.047619</td>\n",
       "      <td>0.190476</td>\n",
       "      <td>0.285714</td>\n",
       "      <td>0.285714</td>\n",
       "      <td>0</td>\n",
       "    </tr>\n",
       "    <tr>\n",
       "      <th>3BA63AD67D</th>\n",
       "      <td>0.176471</td>\n",
       "      <td>0.294118</td>\n",
       "      <td>0.058824</td>\n",
       "      <td>0.176471</td>\n",
       "      <td>0.294118</td>\n",
       "      <td>0</td>\n",
       "    </tr>\n",
       "    <tr>\n",
       "      <th>4550377D4A</th>\n",
       "      <td>0.200000</td>\n",
       "      <td>0.300000</td>\n",
       "      <td>0.100000</td>\n",
       "      <td>0.250000</td>\n",
       "      <td>0.150000</td>\n",
       "      <td>0</td>\n",
       "    </tr>\n",
       "    <tr>\n",
       "      <th>8A8669D316</th>\n",
       "      <td>0.190476</td>\n",
       "      <td>0.238095</td>\n",
       "      <td>0.190476</td>\n",
       "      <td>0.142857</td>\n",
       "      <td>0.238095</td>\n",
       "      <td>0</td>\n",
       "    </tr>\n",
       "  </tbody>\n",
       "</table>\n",
       "<p>4240 rows × 6 columns</p>\n",
       "</div>"
      ],
      "text/plain": [
       "            click_ad  click_carrousel  phone_call  send_email  send_sms  Fake\n",
       "UserId                                                                       \n",
       "1F7EF1F15B  0.300000         0.200000    0.150000    0.150000  0.200000     0\n",
       "468636CEA7  0.157895         0.157895    0.210526    0.368421  0.105263     0\n",
       "C39FD3268D       NaN         0.105263    0.210526    0.526316  0.157895     0\n",
       "1E85C352A1  0.428571         0.020408    0.040816    0.448980  0.061224     1\n",
       "8CC3FE415F  0.222222         0.166667    0.166667    0.333333  0.111111     0\n",
       "...              ...              ...         ...         ...       ...   ...\n",
       "31798C18F0  0.066667         0.266667    0.200000    0.333333  0.133333     0\n",
       "1DBC37DBFA  0.190476         0.047619    0.190476    0.285714  0.285714     0\n",
       "3BA63AD67D  0.176471         0.294118    0.058824    0.176471  0.294118     0\n",
       "4550377D4A  0.200000         0.300000    0.100000    0.250000  0.150000     0\n",
       "8A8669D316  0.190476         0.238095    0.190476    0.142857  0.238095     0\n",
       "\n",
       "[4240 rows x 6 columns]"
      ]
     },
     "execution_count": 18,
     "metadata": {},
     "output_type": "execute_result"
    }
   ],
   "source": [
    "train_features"
   ]
  },
  {
   "cell_type": "markdown",
   "id": "492320fe",
   "metadata": {},
   "source": [
    "Next let's do binary classification with XGBoost. XGBoost can handle missing data, so we don't have to worry about it."
   ]
  },
  {
   "cell_type": "code",
   "execution_count": 19,
   "id": "45e83661",
   "metadata": {},
   "outputs": [
    {
     "data": {
      "text/plain": [
       "XGBClassifier(base_score=0.5, booster='gbtree', colsample_bylevel=1,\n",
       "              colsample_bynode=1, colsample_bytree=1, eval_metric='logloss',\n",
       "              gamma=0, gpu_id=-1, importance_type='gain',\n",
       "              interaction_constraints='', learning_rate=0.300000012,\n",
       "              max_delta_step=0, max_depth=6, min_child_weight=1, missing=nan,\n",
       "              monotone_constraints='()', n_estimators=100, n_jobs=8,\n",
       "              num_parallel_tree=1, random_state=0, reg_alpha=0, reg_lambda=1,\n",
       "              scale_pos_weight=1, subsample=1, tree_method='exact',\n",
       "              use_label_encoder=False, validate_parameters=1, verbosity=None)"
      ]
     },
     "execution_count": 19,
     "metadata": {},
     "output_type": "execute_result"
    }
   ],
   "source": [
    "from xgboost import XGBClassifier\n",
    "\n",
    "X_train, Y_train = train_features.values[:, :-1], train_features.values[:, -1]\n",
    "model = XGBClassifier(eval_metric=\"logloss\", use_label_encoder=False)\n",
    "model.fit(X_train, Y_train)"
   ]
  },
  {
   "cell_type": "code",
   "execution_count": 20,
   "id": "ad77be45",
   "metadata": {},
   "outputs": [],
   "source": [
    "X_valid, Y_valid = valid_features.values[:, :-1], valid_features.values[:, -1]\n",
    "P_valid = model.predict(X_valid)"
   ]
  },
  {
   "cell_type": "code",
   "execution_count": 21,
   "id": "ba21dcdd",
   "metadata": {},
   "outputs": [
    {
     "name": "stdout",
     "output_type": "stream",
     "text": [
      "              precision    recall  f1-score   support\n",
      "\n",
      "         0.0     0.9960    0.9980    0.9970       500\n",
      "         1.0     0.9655    0.9333    0.9492        30\n",
      "\n",
      "    accuracy                         0.9943       530\n",
      "   macro avg     0.9808    0.9657    0.9731       530\n",
      "weighted avg     0.9943    0.9943    0.9943       530\n",
      "\n"
     ]
    }
   ],
   "source": [
    "from sklearn.metrics import classification_report\n",
    "\n",
    "print(classification_report(Y_valid, P_valid, digits=4))"
   ]
  },
  {
   "cell_type": "markdown",
   "id": "e1f4cef4",
   "metadata": {},
   "source": [
    "That was easy! We seem to have a pretty good accuracy right off the bat with this very simple approach. Let's look at the incorrect predictions to see if we can do anything about them."
   ]
  },
  {
   "cell_type": "code",
   "execution_count": 22,
   "id": "68042b1c",
   "metadata": {},
   "outputs": [
    {
     "data": {
      "text/html": [
       "<div>\n",
       "<style scoped>\n",
       "    .dataframe tbody tr th:only-of-type {\n",
       "        vertical-align: middle;\n",
       "    }\n",
       "\n",
       "    .dataframe tbody tr th {\n",
       "        vertical-align: top;\n",
       "    }\n",
       "\n",
       "    .dataframe thead th {\n",
       "        text-align: right;\n",
       "    }\n",
       "</style>\n",
       "<table border=\"1\" class=\"dataframe\">\n",
       "  <thead>\n",
       "    <tr style=\"text-align: right;\">\n",
       "      <th></th>\n",
       "      <th>click_ad</th>\n",
       "      <th>click_carrousel</th>\n",
       "      <th>phone_call</th>\n",
       "      <th>send_email</th>\n",
       "      <th>send_sms</th>\n",
       "      <th>Fake</th>\n",
       "      <th>PredictedFake</th>\n",
       "    </tr>\n",
       "    <tr>\n",
       "      <th>UserId</th>\n",
       "      <th></th>\n",
       "      <th></th>\n",
       "      <th></th>\n",
       "      <th></th>\n",
       "      <th></th>\n",
       "      <th></th>\n",
       "      <th></th>\n",
       "    </tr>\n",
       "  </thead>\n",
       "  <tbody>\n",
       "    <tr>\n",
       "      <th>6C67CDA238</th>\n",
       "      <td>0.315789</td>\n",
       "      <td>0.052632</td>\n",
       "      <td>0.105263</td>\n",
       "      <td>0.421053</td>\n",
       "      <td>0.105263</td>\n",
       "      <td>0</td>\n",
       "      <td>1</td>\n",
       "    </tr>\n",
       "    <tr>\n",
       "      <th>A658DFA0D1</th>\n",
       "      <td>0.529412</td>\n",
       "      <td>0.147059</td>\n",
       "      <td>0.029412</td>\n",
       "      <td>0.176471</td>\n",
       "      <td>0.117647</td>\n",
       "      <td>1</td>\n",
       "      <td>0</td>\n",
       "    </tr>\n",
       "    <tr>\n",
       "      <th>AEA8DCAD2C</th>\n",
       "      <td>0.363636</td>\n",
       "      <td>0.136364</td>\n",
       "      <td>0.136364</td>\n",
       "      <td>0.318182</td>\n",
       "      <td>0.045455</td>\n",
       "      <td>1</td>\n",
       "      <td>0</td>\n",
       "    </tr>\n",
       "  </tbody>\n",
       "</table>\n",
       "</div>"
      ],
      "text/plain": [
       "            click_ad  click_carrousel  phone_call  send_email  send_sms  Fake  \\\n",
       "UserId                                                                          \n",
       "6C67CDA238  0.315789         0.052632    0.105263    0.421053  0.105263     0   \n",
       "A658DFA0D1  0.529412         0.147059    0.029412    0.176471  0.117647     1   \n",
       "AEA8DCAD2C  0.363636         0.136364    0.136364    0.318182  0.045455     1   \n",
       "\n",
       "            PredictedFake  \n",
       "UserId                     \n",
       "6C67CDA238              1  \n",
       "A658DFA0D1              0  \n",
       "AEA8DCAD2C              0  "
      ]
     },
     "execution_count": 22,
     "metadata": {},
     "output_type": "execute_result"
    }
   ],
   "source": [
    "valid_features[\"PredictedFake\"] = P_valid.astype(int)\n",
    "valid_features[valid_features[\"Fake\"] != valid_features[\"PredictedFake\"]]"
   ]
  },
  {
   "cell_type": "markdown",
   "id": "758b9b78",
   "metadata": {},
   "source": [
    "Nothing very surprising here. A real user who happened to behave similarly to a fake user (high `send_email` and high `click_ad`) was classified as fake, and a couple of fake users misclassified as real.\n",
    "\n",
    "I would imagine that the latter kind of error should be more tolerable as the goal is to reduce the number of fake users while not bothering real users by wrongly accusing them of being fake."
   ]
  },
  {
   "cell_type": "markdown",
   "id": "8b2bfea5",
   "metadata": {},
   "source": [
    "So far we've only used as features the distribution of events generated by users, but not the absolute number of generated events. Let's look at that, perhaps fake users generate many more events than real users? That would be a useful feature."
   ]
  },
  {
   "cell_type": "code",
   "execution_count": 23,
   "id": "ba5a9c96",
   "metadata": {},
   "outputs": [
    {
     "data": {
      "text/html": [
       "<div>\n",
       "<style scoped>\n",
       "    .dataframe tbody tr th:only-of-type {\n",
       "        vertical-align: middle;\n",
       "    }\n",
       "\n",
       "    .dataframe tbody tr th {\n",
       "        vertical-align: top;\n",
       "    }\n",
       "\n",
       "    .dataframe thead th {\n",
       "        text-align: right;\n",
       "    }\n",
       "</style>\n",
       "<table border=\"1\" class=\"dataframe\">\n",
       "  <thead>\n",
       "    <tr style=\"text-align: right;\">\n",
       "      <th></th>\n",
       "      <th>Event</th>\n",
       "    </tr>\n",
       "    <tr>\n",
       "      <th>Fake</th>\n",
       "      <th></th>\n",
       "    </tr>\n",
       "  </thead>\n",
       "  <tbody>\n",
       "    <tr>\n",
       "      <th>0</th>\n",
       "      <td>18.0228</td>\n",
       "    </tr>\n",
       "    <tr>\n",
       "      <th>1</th>\n",
       "      <td>34.5300</td>\n",
       "    </tr>\n",
       "  </tbody>\n",
       "</table>\n",
       "</div>"
      ],
      "text/plain": [
       "        Event\n",
       "Fake         \n",
       "0     18.0228\n",
       "1     34.5300"
      ]
     },
     "execution_count": 23,
     "metadata": {},
     "output_type": "execute_result"
    }
   ],
   "source": [
    "users[[\"UserId\", \"Event\", \"Fake\"]].groupby([\"Fake\", \"UserId\"]).count().groupby(level=0).mean()"
   ]
  },
  {
   "cell_type": "markdown",
   "id": "5fc08c96",
   "metadata": {},
   "source": [
    "Indeed, it seems that the average number of events generated by a fake user is almost 2x higher than the average number of events generated by a real user.\n",
    "\n",
    "Let's see what happens if we use the total number of events generated by a user as an input feature."
   ]
  },
  {
   "cell_type": "code",
   "execution_count": 24,
   "id": "7b623a93",
   "metadata": {},
   "outputs": [
    {
     "data": {
      "text/html": [
       "<div>\n",
       "<style scoped>\n",
       "    .dataframe tbody tr th:only-of-type {\n",
       "        vertical-align: middle;\n",
       "    }\n",
       "\n",
       "    .dataframe tbody tr th {\n",
       "        vertical-align: top;\n",
       "    }\n",
       "\n",
       "    .dataframe thead th {\n",
       "        text-align: right;\n",
       "    }\n",
       "</style>\n",
       "<table border=\"1\" class=\"dataframe\">\n",
       "  <thead>\n",
       "    <tr style=\"text-align: right;\">\n",
       "      <th></th>\n",
       "      <th>Event</th>\n",
       "    </tr>\n",
       "    <tr>\n",
       "      <th>UserId</th>\n",
       "      <th></th>\n",
       "    </tr>\n",
       "  </thead>\n",
       "  <tbody>\n",
       "    <tr>\n",
       "      <th>00079D439D</th>\n",
       "      <td>19</td>\n",
       "    </tr>\n",
       "    <tr>\n",
       "      <th>0007A4D4AE</th>\n",
       "      <td>20</td>\n",
       "    </tr>\n",
       "    <tr>\n",
       "      <th>000AFE2623</th>\n",
       "      <td>21</td>\n",
       "    </tr>\n",
       "    <tr>\n",
       "      <th>001A5362BC</th>\n",
       "      <td>16</td>\n",
       "    </tr>\n",
       "    <tr>\n",
       "      <th>0025995AF5</th>\n",
       "      <td>21</td>\n",
       "    </tr>\n",
       "    <tr>\n",
       "      <th>...</th>\n",
       "      <td>...</td>\n",
       "    </tr>\n",
       "    <tr>\n",
       "      <th>FFB0AC6E49</th>\n",
       "      <td>18</td>\n",
       "    </tr>\n",
       "    <tr>\n",
       "      <th>FFC56B0CDD</th>\n",
       "      <td>24</td>\n",
       "    </tr>\n",
       "    <tr>\n",
       "      <th>FFD2B9DC06</th>\n",
       "      <td>20</td>\n",
       "    </tr>\n",
       "    <tr>\n",
       "      <th>FFDF962B04</th>\n",
       "      <td>15</td>\n",
       "    </tr>\n",
       "    <tr>\n",
       "      <th>FFFDC1CD0F</th>\n",
       "      <td>19</td>\n",
       "    </tr>\n",
       "  </tbody>\n",
       "</table>\n",
       "<p>5300 rows × 1 columns</p>\n",
       "</div>"
      ],
      "text/plain": [
       "            Event\n",
       "UserId           \n",
       "00079D439D     19\n",
       "0007A4D4AE     20\n",
       "000AFE2623     21\n",
       "001A5362BC     16\n",
       "0025995AF5     21\n",
       "...           ...\n",
       "FFB0AC6E49     18\n",
       "FFC56B0CDD     24\n",
       "FFD2B9DC06     20\n",
       "FFDF962B04     15\n",
       "FFFDC1CD0F     19\n",
       "\n",
       "[5300 rows x 1 columns]"
      ]
     },
     "execution_count": 24,
     "metadata": {},
     "output_type": "execute_result"
    }
   ],
   "source": [
    "event_counts = users[[\"UserId\", \"Event\"]].groupby(\"UserId\").count()\n",
    "event_counts"
   ]
  },
  {
   "cell_type": "code",
   "execution_count": 25,
   "id": "cf9e6257",
   "metadata": {},
   "outputs": [],
   "source": [
    "train_features = pd.merge(\n",
    "    event_counts,\n",
    "    pd.merge(percentages, train, left_index=True, right_index=True, how=\"right\"),\n",
    "    how=\"right\",\n",
    "    left_index=True,\n",
    "    right_index=True,\n",
    ")\n",
    "valid_features = pd.merge(\n",
    "    event_counts,\n",
    "    pd.merge(percentages, valid, left_index=True, right_index=True, how=\"right\"),\n",
    "    how=\"right\",\n",
    "    left_index=True,\n",
    "    right_index=True,\n",
    ")\n",
    "test_features = pd.merge(\n",
    "    event_counts,\n",
    "    pd.merge(percentages, test, left_index=True, right_index=True, how=\"right\"),\n",
    "    how=\"right\",\n",
    "    left_index=True,\n",
    "    right_index=True,\n",
    ")"
   ]
  },
  {
   "cell_type": "code",
   "execution_count": 26,
   "id": "01507216",
   "metadata": {},
   "outputs": [
    {
     "data": {
      "text/plain": [
       "XGBClassifier(base_score=0.5, booster='gbtree', colsample_bylevel=1,\n",
       "              colsample_bynode=1, colsample_bytree=1, eval_metric='logloss',\n",
       "              gamma=0, gpu_id=-1, importance_type='gain',\n",
       "              interaction_constraints='', learning_rate=0.300000012,\n",
       "              max_delta_step=0, max_depth=6, min_child_weight=1, missing=nan,\n",
       "              monotone_constraints='()', n_estimators=100, n_jobs=8,\n",
       "              num_parallel_tree=1, random_state=0, reg_alpha=0, reg_lambda=1,\n",
       "              scale_pos_weight=1, subsample=1, tree_method='exact',\n",
       "              use_label_encoder=False, validate_parameters=1, verbosity=None)"
      ]
     },
     "execution_count": 26,
     "metadata": {},
     "output_type": "execute_result"
    }
   ],
   "source": [
    "X_train, Y_train = train_features.values[:, :-1], train_features.values[:, -1]\n",
    "model = XGBClassifier(eval_metric=\"logloss\", use_label_encoder=False)\n",
    "model.fit(X_train, Y_train)"
   ]
  },
  {
   "cell_type": "code",
   "execution_count": 59,
   "id": "1db208a9",
   "metadata": {},
   "outputs": [
    {
     "data": {
      "text/html": [
       "<div>\n",
       "<style scoped>\n",
       "    .dataframe tbody tr th:only-of-type {\n",
       "        vertical-align: middle;\n",
       "    }\n",
       "\n",
       "    .dataframe tbody tr th {\n",
       "        vertical-align: top;\n",
       "    }\n",
       "\n",
       "    .dataframe thead th {\n",
       "        text-align: right;\n",
       "    }\n",
       "</style>\n",
       "<table border=\"1\" class=\"dataframe\">\n",
       "  <thead>\n",
       "    <tr style=\"text-align: right;\">\n",
       "      <th></th>\n",
       "      <th>Event</th>\n",
       "      <th>click_ad</th>\n",
       "      <th>click_carrousel</th>\n",
       "      <th>phone_call</th>\n",
       "      <th>send_email</th>\n",
       "      <th>send_sms</th>\n",
       "      <th>Fake</th>\n",
       "    </tr>\n",
       "    <tr>\n",
       "      <th>UserId</th>\n",
       "      <th></th>\n",
       "      <th></th>\n",
       "      <th></th>\n",
       "      <th></th>\n",
       "      <th></th>\n",
       "      <th></th>\n",
       "      <th></th>\n",
       "    </tr>\n",
       "  </thead>\n",
       "  <tbody>\n",
       "    <tr>\n",
       "      <th>1F7EF1F15B</th>\n",
       "      <td>20</td>\n",
       "      <td>0.300000</td>\n",
       "      <td>0.200000</td>\n",
       "      <td>0.150000</td>\n",
       "      <td>0.150000</td>\n",
       "      <td>0.200000</td>\n",
       "      <td>0</td>\n",
       "    </tr>\n",
       "    <tr>\n",
       "      <th>468636CEA7</th>\n",
       "      <td>19</td>\n",
       "      <td>0.157895</td>\n",
       "      <td>0.157895</td>\n",
       "      <td>0.210526</td>\n",
       "      <td>0.368421</td>\n",
       "      <td>0.105263</td>\n",
       "      <td>0</td>\n",
       "    </tr>\n",
       "    <tr>\n",
       "      <th>C39FD3268D</th>\n",
       "      <td>19</td>\n",
       "      <td>NaN</td>\n",
       "      <td>0.105263</td>\n",
       "      <td>0.210526</td>\n",
       "      <td>0.526316</td>\n",
       "      <td>0.157895</td>\n",
       "      <td>0</td>\n",
       "    </tr>\n",
       "    <tr>\n",
       "      <th>1E85C352A1</th>\n",
       "      <td>49</td>\n",
       "      <td>0.428571</td>\n",
       "      <td>0.020408</td>\n",
       "      <td>0.040816</td>\n",
       "      <td>0.448980</td>\n",
       "      <td>0.061224</td>\n",
       "      <td>1</td>\n",
       "    </tr>\n",
       "    <tr>\n",
       "      <th>8CC3FE415F</th>\n",
       "      <td>18</td>\n",
       "      <td>0.222222</td>\n",
       "      <td>0.166667</td>\n",
       "      <td>0.166667</td>\n",
       "      <td>0.333333</td>\n",
       "      <td>0.111111</td>\n",
       "      <td>0</td>\n",
       "    </tr>\n",
       "    <tr>\n",
       "      <th>...</th>\n",
       "      <td>...</td>\n",
       "      <td>...</td>\n",
       "      <td>...</td>\n",
       "      <td>...</td>\n",
       "      <td>...</td>\n",
       "      <td>...</td>\n",
       "      <td>...</td>\n",
       "    </tr>\n",
       "    <tr>\n",
       "      <th>31798C18F0</th>\n",
       "      <td>15</td>\n",
       "      <td>0.066667</td>\n",
       "      <td>0.266667</td>\n",
       "      <td>0.200000</td>\n",
       "      <td>0.333333</td>\n",
       "      <td>0.133333</td>\n",
       "      <td>0</td>\n",
       "    </tr>\n",
       "    <tr>\n",
       "      <th>1DBC37DBFA</th>\n",
       "      <td>21</td>\n",
       "      <td>0.190476</td>\n",
       "      <td>0.047619</td>\n",
       "      <td>0.190476</td>\n",
       "      <td>0.285714</td>\n",
       "      <td>0.285714</td>\n",
       "      <td>0</td>\n",
       "    </tr>\n",
       "    <tr>\n",
       "      <th>3BA63AD67D</th>\n",
       "      <td>17</td>\n",
       "      <td>0.176471</td>\n",
       "      <td>0.294118</td>\n",
       "      <td>0.058824</td>\n",
       "      <td>0.176471</td>\n",
       "      <td>0.294118</td>\n",
       "      <td>0</td>\n",
       "    </tr>\n",
       "    <tr>\n",
       "      <th>4550377D4A</th>\n",
       "      <td>20</td>\n",
       "      <td>0.200000</td>\n",
       "      <td>0.300000</td>\n",
       "      <td>0.100000</td>\n",
       "      <td>0.250000</td>\n",
       "      <td>0.150000</td>\n",
       "      <td>0</td>\n",
       "    </tr>\n",
       "    <tr>\n",
       "      <th>8A8669D316</th>\n",
       "      <td>21</td>\n",
       "      <td>0.190476</td>\n",
       "      <td>0.238095</td>\n",
       "      <td>0.190476</td>\n",
       "      <td>0.142857</td>\n",
       "      <td>0.238095</td>\n",
       "      <td>0</td>\n",
       "    </tr>\n",
       "  </tbody>\n",
       "</table>\n",
       "<p>4240 rows × 7 columns</p>\n",
       "</div>"
      ],
      "text/plain": [
       "            Event  click_ad  click_carrousel  phone_call  send_email  \\\n",
       "UserId                                                                 \n",
       "1F7EF1F15B     20  0.300000         0.200000    0.150000    0.150000   \n",
       "468636CEA7     19  0.157895         0.157895    0.210526    0.368421   \n",
       "C39FD3268D     19       NaN         0.105263    0.210526    0.526316   \n",
       "1E85C352A1     49  0.428571         0.020408    0.040816    0.448980   \n",
       "8CC3FE415F     18  0.222222         0.166667    0.166667    0.333333   \n",
       "...           ...       ...              ...         ...         ...   \n",
       "31798C18F0     15  0.066667         0.266667    0.200000    0.333333   \n",
       "1DBC37DBFA     21  0.190476         0.047619    0.190476    0.285714   \n",
       "3BA63AD67D     17  0.176471         0.294118    0.058824    0.176471   \n",
       "4550377D4A     20  0.200000         0.300000    0.100000    0.250000   \n",
       "8A8669D316     21  0.190476         0.238095    0.190476    0.142857   \n",
       "\n",
       "            send_sms  Fake  \n",
       "UserId                      \n",
       "1F7EF1F15B  0.200000     0  \n",
       "468636CEA7  0.105263     0  \n",
       "C39FD3268D  0.157895     0  \n",
       "1E85C352A1  0.061224     1  \n",
       "8CC3FE415F  0.111111     0  \n",
       "...              ...   ...  \n",
       "31798C18F0  0.133333     0  \n",
       "1DBC37DBFA  0.285714     0  \n",
       "3BA63AD67D  0.294118     0  \n",
       "4550377D4A  0.150000     0  \n",
       "8A8669D316  0.238095     0  \n",
       "\n",
       "[4240 rows x 7 columns]"
      ]
     },
     "execution_count": 59,
     "metadata": {},
     "output_type": "execute_result"
    }
   ],
   "source": [
    "train_features"
   ]
  },
  {
   "cell_type": "code",
   "execution_count": 27,
   "id": "867c00dc",
   "metadata": {},
   "outputs": [],
   "source": [
    "X_valid, Y_valid = valid_features.values[:, :-1], valid_features.values[:, -1]\n",
    "P_valid = model.predict(X_valid)"
   ]
  },
  {
   "cell_type": "code",
   "execution_count": 28,
   "id": "ad5dc354",
   "metadata": {},
   "outputs": [
    {
     "name": "stdout",
     "output_type": "stream",
     "text": [
      "              precision    recall  f1-score   support\n",
      "\n",
      "         0.0     0.9980    1.0000    0.9990       500\n",
      "         1.0     1.0000    0.9667    0.9831        30\n",
      "\n",
      "    accuracy                         0.9981       530\n",
      "   macro avg     0.9990    0.9833    0.9910       530\n",
      "weighted avg     0.9981    0.9981    0.9981       530\n",
      "\n"
     ]
    }
   ],
   "source": [
    "from sklearn.metrics import classification_report\n",
    "\n",
    "print(classification_report(Y_valid, P_valid, digits=4))"
   ]
  },
  {
   "cell_type": "markdown",
   "id": "27ccfce5",
   "metadata": {},
   "source": [
    "🔥🔥🔥\n",
    "\n",
    "Our new feature improves performance indeed. We're now looking 99.1% macro average f1 score on the validation dataset. That's great!"
   ]
  },
  {
   "cell_type": "markdown",
   "id": "af07495b",
   "metadata": {},
   "source": [
    "Let's try to find the best confidence threshold. Can we get to 100% macro average f1 score?"
   ]
  },
  {
   "cell_type": "code",
   "execution_count": 48,
   "id": "b3b08f5c",
   "metadata": {},
   "outputs": [],
   "source": [
    "best_threshold = 0.01\n",
    "best_f1 = -1\n",
    "\n",
    "for threshold in np.arange(0.01, 1, 0.01):\n",
    "    dic = classification_report(Y_valid, model.predict_proba(X_valid)[:, 1] > threshold, output_dict=True)\n",
    "    fake_f1 = dic['macro avg'][\"f1-score\"]\n",
    "    if fake_f1 >= best_f1:\n",
    "        best_threshold = threshold\n",
    "        best_f1 = fake_f1"
   ]
  },
  {
   "cell_type": "code",
   "execution_count": 49,
   "id": "4b9459dd",
   "metadata": {},
   "outputs": [
    {
     "data": {
      "text/plain": [
       "0.11"
      ]
     },
     "execution_count": 49,
     "metadata": {},
     "output_type": "execute_result"
    }
   ],
   "source": [
    "best_threshold"
   ]
  },
  {
   "cell_type": "markdown",
   "id": "41041ebf",
   "metadata": {},
   "source": [
    "Let's do a final evaluation of our model. Does the model we've trained on the features and confidence threshold we've chosen generalize to the test dataset?"
   ]
  },
  {
   "cell_type": "code",
   "execution_count": 50,
   "id": "def95a7b",
   "metadata": {},
   "outputs": [],
   "source": [
    "X_test, Y_test = test_features.values[:, :-1], test_features.values[:, -1]\n",
    "P_test = model.predict_proba(X_test)[:, 1] > best_threshold"
   ]
  },
  {
   "cell_type": "code",
   "execution_count": 51,
   "id": "959d0dd3",
   "metadata": {},
   "outputs": [
    {
     "name": "stdout",
     "output_type": "stream",
     "text": [
      "              precision    recall  f1-score   support\n",
      "\n",
      "         0.0     1.0000    1.0000    1.0000       500\n",
      "         1.0     1.0000    1.0000    1.0000        30\n",
      "\n",
      "    accuracy                         1.0000       530\n",
      "   macro avg     1.0000    1.0000    1.0000       530\n",
      "weighted avg     1.0000    1.0000    1.0000       530\n",
      "\n"
     ]
    }
   ],
   "source": [
    "from sklearn.metrics import classification_report\n",
    "\n",
    "print(classification_report(Y_test, P_test, digits=4))"
   ]
  },
  {
   "cell_type": "markdown",
   "id": "572391b5",
   "metadata": {},
   "source": [
    "Cool! 100% classification accuracy on the test set. I've never seen this in my career as a data scientist, but I guess this is a toy problem for testing people so the data is likely fake / automatically generated?"
   ]
  },
  {
   "cell_type": "markdown",
   "id": "919d0069",
   "metadata": {},
   "source": [
    "Did I accidentally leak test or validation data into training data?"
   ]
  },
  {
   "cell_type": "code",
   "execution_count": 52,
   "id": "5d1d6d74",
   "metadata": {},
   "outputs": [
    {
     "data": {
      "text/plain": [
       "False"
      ]
     },
     "execution_count": 52,
     "metadata": {},
     "output_type": "execute_result"
    }
   ],
   "source": [
    "any(test_features.index.isin(train_features.index))"
   ]
  },
  {
   "cell_type": "code",
   "execution_count": 53,
   "id": "6df814e9",
   "metadata": {},
   "outputs": [
    {
     "data": {
      "text/plain": [
       "False"
      ]
     },
     "execution_count": 53,
     "metadata": {},
     "output_type": "execute_result"
    }
   ],
   "source": [
    "any(valid_features.index.isin(train_features.index))"
   ]
  },
  {
   "cell_type": "code",
   "execution_count": 54,
   "id": "babebc4f",
   "metadata": {},
   "outputs": [
    {
     "data": {
      "text/plain": [
       "False"
      ]
     },
     "execution_count": 54,
     "metadata": {},
     "output_type": "execute_result"
    }
   ],
   "source": [
    "any(test_features.index.isin(valid_features.index))"
   ]
  },
  {
   "cell_type": "markdown",
   "id": "fb4b0a06",
   "metadata": {},
   "source": [
    "Let's save the model to a file"
   ]
  },
  {
   "cell_type": "code",
   "execution_count": 57,
   "id": "8f4dcd31",
   "metadata": {},
   "outputs": [],
   "source": [
    "import pickle\n",
    "\n",
    "with open(\"../models/xgboost.pkl\", \"wb\") as f:\n",
    "    pickle.dump(model, f)"
   ]
  },
  {
   "cell_type": "markdown",
   "id": "05c3f0ec",
   "metadata": {},
   "source": [
    "Total amount of time spent so far: 1h42 minutes"
   ]
  }
 ],
 "metadata": {
  "kernelspec": {
   "display_name": "Python 3 (ipykernel)",
   "language": "python",
   "name": "python3"
  },
  "language_info": {
   "codemirror_mode": {
    "name": "ipython",
    "version": 3
   },
   "file_extension": ".py",
   "mimetype": "text/x-python",
   "name": "python",
   "nbconvert_exporter": "python",
   "pygments_lexer": "ipython3",
   "version": "3.7.4"
  }
 },
 "nbformat": 4,
 "nbformat_minor": 5
}
